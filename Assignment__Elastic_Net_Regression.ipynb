{
  "nbformat": 4,
  "nbformat_minor": 0,
  "metadata": {
    "colab": {
      "provenance": [],
      "authorship_tag": "ABX9TyNwHGUiMkznIGZSqIc8oBIX",
      "include_colab_link": true
    },
    "kernelspec": {
      "name": "python3",
      "display_name": "Python 3"
    },
    "language_info": {
      "name": "python"
    }
  },
  "cells": [
    {
      "cell_type": "markdown",
      "metadata": {
        "id": "view-in-github",
        "colab_type": "text"
      },
      "source": [
        "<a href=\"https://colab.research.google.com/github/Riturajkumari/Regression/blob/main/Assignment__Elastic_Net_Regression.ipynb\" target=\"_parent\"><img src=\"https://colab.research.google.com/assets/colab-badge.svg\" alt=\"Open In Colab\"/></a>"
      ]
    },
    {
      "cell_type": "markdown",
      "source": [
        "**Q1. What is Elastic Net Regression and how does it differ from other regression techniques?**"
      ],
      "metadata": {
        "id": "QVE_7KH6FU6N"
      }
    },
    {
      "cell_type": "markdown",
      "source": [
        "- The elastic net algorithm uses a weighted combination of L1 and L2 regularization.\n",
        "- Elastic net linear regression uses the penalties from both the lasso and ridge techniques to regularize regression models. The technique combines both the lasso and ridge regression methods by learning from their shortcomings to improve the regularization of statistical models.\n"
      ],
      "metadata": {
        "id": "9bYv6-rjIOSS"
      }
    },
    {
      "cell_type": "markdown",
      "source": [
        "- The elastic net method performs variable selection and regularization simultaneously.\n",
        "- The elastic net technique is most appropriate where the dimensional data is greater than the number of samples used.\n",
        "- Groupings and variables selection are the key roles of the elastic net technique.\n",
        "\n",
        "   ENR = Lasso Regression + Ridge Regression"
      ],
      "metadata": {
        "id": "ACrR183SKTBo"
      }
    },
    {
      "cell_type": "code",
      "source": [],
      "metadata": {
        "id": "BFPSpMWnFT91"
      },
      "execution_count": null,
      "outputs": []
    },
    {
      "cell_type": "markdown",
      "source": [
        "**Q2. How do you choose the optimal values of the regularization parameters for Elastic Net Regression?**"
      ],
      "metadata": {
        "id": "49Mo5coZFdnG"
      }
    },
    {
      "cell_type": "markdown",
      "source": [
        "The Elastic Net is a regularized regression technique combining ridge and lasso's regularization terms. \n",
        "The parameter controls the combination ratio. When , the L2 term will be eliminated, and when , the L1 term will be removed.\n",
        "\n",
        "$$\\text{Elastic Net Cost Function} = \\text{Loss Function} + r \\lambda \\sum_{j=1}^m |wj|+ \\dfrac{(1-r)}{2} \\lambda\\sum{j=1}^m w_j^2$$\n",
        "\n",
        "Although combining the penalties of lasso and ridge usually works better than only using one of the regularization techniques, adjusting two parameters."
      ],
      "metadata": {
        "id": "dPH20A-tNZXQ"
      }
    },
    {
      "cell_type": "markdown",
      "source": [
        "both L1 and L2 regularization terms to the cost function of linear regression at the same time.\n",
        "\n",
        "The Scikit-learn class for Elastic Net regression is:\n",
        "\n",
        "ElasticNet(alpha=..., l1_ratio=...)\n",
        "The hyperparameter l1_ratio defines how we mix both L1 and L2 regularization. Therefore, it is called the ElasticNet mixing parameter. The acceptable range of values for l1_ratio is:\n",
        "\n",
        "0 <= l1_ratio <= 1\n"
      ],
      "metadata": {
        "id": "ptVP7CnCZDf6"
      }
    },
    {
      "cell_type": "markdown",
      "source": [
        "the possible cases:\n",
        "\n",
        "- l1_ratio = 0 means there is no L1 term and there is only L2 regularization.\n",
        "- l1_ratio = 1 means there is no L2 term and there is only L1 regularization.\n",
        "- 0 < l1_ratio < 1 means the regulation is defined as a combination of L1 and L2 terms. If l1_ratio is close to 1, it means that the L1 term is dominating. If l1_ratio is close to 0, it means that the L2 term is dominating."
      ],
      "metadata": {
        "id": "JDHlJdH2ZJ-8"
      }
    },
    {
      "cell_type": "code",
      "source": [],
      "metadata": {
        "id": "lBPS3TvEFUC0"
      },
      "execution_count": null,
      "outputs": []
    },
    {
      "cell_type": "markdown",
      "source": [
        "**Q3. What are the advantages and disadvantages of Elastic Net Regression?**"
      ],
      "metadata": {
        "id": "O6SzMZ30Ffon"
      }
    },
    {
      "cell_type": "markdown",
      "source": [
        "**Advantage of elastic net**\n",
        "-  it can handle multicollinearity, which is when some predictors are highly correlated with each other.\n",
        "- benefit of elastic net is that it can reduce overfitting, which is when the model fits the training data too well, but performs poorly on new or unseen data.\n",
        "- elastic net can do it more effectively by combining the benefits of both methods. Elastic net can balance the bias-variance trade-off by finding a middle ground between underfitting and overfitting.\n",
        "- elastic net is that it can perform feature selection, which is when the model identifies the most important predictors for the outcome. \n",
        "- Elastic net can perform feature selection by setting some coefficients to zero, while keeping others that are significant.\n",
        "- elastic net regression can achieve a better trade-off between bias and variance than lasso and ridge regression by tuning the regularization parameters. "
      ],
      "metadata": {
        "id": "Cwg2N_cePFm_"
      }
    },
    {
      "cell_type": "markdown",
      "source": [
        "**disadvantages of Elastic Net Regression**\n",
        "- Elastic net regression has some drawbacks compared to lasso and ridge regression, such as requiring more computational resources and time due to two regularization parameters and a cross-validation process. \n",
        "- It may not perform optimally when there is no correlation between features or when the number of features is much smaller than the number of observations, as it may lose predictive power or introduce bias. \n",
        "- t may not be easily interpretable, as it could select a large number of features with small coefficients or a small number of features with large coefficients.\n"
      ],
      "metadata": {
        "id": "OhOLHMUpPlLN"
      }
    },
    {
      "cell_type": "code",
      "source": [],
      "metadata": {
        "id": "2e6BcHoSFkki"
      },
      "execution_count": null,
      "outputs": []
    },
    {
      "cell_type": "markdown",
      "source": [
        "**Q4. What are some common use cases for Elastic Net Regression?**"
      ],
      "metadata": {
        "id": "SjPYa7osFk0O"
      }
    },
    {
      "cell_type": "markdown",
      "source": [
        "To use elastic net regression, you need to specify two parameters:\n",
        " alpha and lambda. \n",
        " - Alpha is a value between 0 and 1 that determines the weight of the L1 norm and the L2 norm in the penalty term. \n",
        "-  When alpha is 0, the penalty term is only the L2 norm, and the model is equivalent to ridge regression. \n",
        "\n",
        "- When alpha is 1, the penalty term is only the L1 norm, and the model is equivalent to lasso regression.\n",
        "-  When alpha is between 0 and 1, the penalty term is a mixture of the L1 norm and the L2 norm, and the model is elastic net regression. \n",
        "\n",
        "\n",
        "\n",
        "\n",
        "\n",
        "- **Lambda** is a positive value that determines the strength of the penalty term. \n",
        "- When lambda is 0, there is no penalty, and the model is equivalent to ordinary least squares regression.\n",
        "-  When lambda is large, the penalty is strong, and the coefficients are shrunk more towards zero or each other. To find the optimal values of alpha and lambda, you can use **cross-validation or other methods to evaluate the performance of the model** on different combinations of alpha and lambda, and choose the ones that minimize the prediction error or maximize the prediction accuracy.\n"
      ],
      "metadata": {
        "id": "EuBOVJijRw4E"
      }
    },
    {
      "cell_type": "code",
      "source": [],
      "metadata": {
        "id": "p9wUy1BDFqaZ"
      },
      "execution_count": null,
      "outputs": []
    },
    {
      "cell_type": "markdown",
      "source": [
        "**Q5. How do you interpret the coefficients in Elastic Net Regression?**"
      ],
      "metadata": {
        "id": "EevqxwMhFqv-"
      }
    },
    {
      "cell_type": "markdown",
      "source": [
        "The coefficients of elastic net regression represent the linear relationship between the features and the target variable, adjusted by the regularization terms. The larger the absolute value of a coefficient, the stronger the effect of the corresponding feature on the target variable.\n",
        "- The sign of a coefficient indicates the direction of the effect: positive for positive correlation, negative for negative correlation. \n",
        "- The coefficients that are zero indicate that the corresponding features are not relevant for the model, and they are eliminated by the lasso penalty.\n",
        "- use the coefficients of elastic net regression to rank the features by their importance and select the ones that have non-zero coefficients."
      ],
      "metadata": {
        "id": "Bu0wkw6TSvYk"
      }
    },
    {
      "cell_type": "code",
      "source": [],
      "metadata": {
        "id": "YUTHQ4goFvXy"
      },
      "execution_count": null,
      "outputs": []
    },
    {
      "cell_type": "markdown",
      "source": [
        "**Q6. How do you handle missing values when using Elastic Net Regression?**"
      ],
      "metadata": {
        "id": "3HE1L_WXFvoS"
      }
    },
    {
      "cell_type": "markdown",
      "source": [
        "Elastic Net Regression is a linear regression model that combines both L1 and L2 regularization penalties. It can handle missing values in a similar way to other regression models. Here are some ways to handle missing values in Elastic Net Regression:\n",
        "\n",
        "- Omitting variables for which most observations are missing.\n",
        "- Omitting rows/observations/cases with missing values (listwise deletion or complete case analysis).\n",
        "- Taking the average of the column and using that value if there is a heavy skew.\n",
        "Performing regression or nearest neighbor imputation on the column to predict the missing values."
      ],
      "metadata": {
        "id": "zU09pFNNT-M_"
      }
    },
    {
      "cell_type": "code",
      "source": [],
      "metadata": {
        "id": "35b0XFNsF0Oq"
      },
      "execution_count": null,
      "outputs": []
    },
    {
      "cell_type": "markdown",
      "source": [
        "**Q7. How do you use Elastic Net Regression for feature selection?**"
      ],
      "metadata": {
        "id": "-vZBV-KxF0gJ"
      }
    },
    {
      "cell_type": "markdown",
      "source": [
        "- Elastic net regression is a popular technique for feature selection and regularization in quantitative analytics. It combines the advantages of ridge and lasso regression, which penalize the coefficients of the linear model based on their magnitude and sparsity, respectively.\n",
        "- Elastic net regression is a type of linear regression that adds two penalty terms to the ordinary least squares (OLS) objective function. The first term is the L2-norm of the coefficients, which is proportional to the sum of their squared values. This term is also known as the ridge penalty, and it shrinks the coefficients towards zero, reducing the variance and multicollinearity of the model.\n",
        "-  The second term is the L1-norm of the coefficients, which is proportional to the sum of their absolute values. This term is also known as the lasso penalty, and it drives some of the coefficients to exactly zero, performing feature selection and increasing the sparsity of the model. The elastic net penalty is a weighted combination of the ridge and lasso penalties, controlled by a parameter called alpha. When alpha is zero, the elastic net regression becomes ridge regression. When alpha is one, it becomes lasso regression. When alpha is between zero and one, it balances the effects of both penalties."
      ],
      "metadata": {
        "id": "b15JnBsfUr0I"
      }
    },
    {
      "cell_type": "code",
      "source": [],
      "metadata": {
        "id": "XG-J9mL9FUQt"
      },
      "execution_count": null,
      "outputs": []
    },
    {
      "cell_type": "code",
      "source": [],
      "metadata": {
        "id": "8qGI6mJsFUUQ"
      },
      "execution_count": null,
      "outputs": []
    },
    {
      "cell_type": "markdown",
      "source": [
        "**Q8. How do you pickle and unpickle a trained Elastic Net Regression model in Python?**"
      ],
      "metadata": {
        "id": "NyMVOafzGC3h"
      }
    },
    {
      "cell_type": "markdown",
      "source": [
        "**Pickling** is a process of serializing objects in Python. **Unpickling** is the reverse process. With **unpickling**, you can convert serialized data back to Python objects.pickle and unpickle data in Python using the Python Pickle module. "
      ],
      "metadata": {
        "id": "ugQoiWHHWD1E"
      }
    },
    {
      "cell_type": "markdown",
      "source": [
        "The Python **Pickle module** contains methods that can be used to pickle and unpickle objects in Python.\n",
        " Depending on the destination of the serialized data, the **Pickle** module provides the **dump()** and **dumps()** methods for pickling. \n",
        " For **unpickling**, the **load** and **loads()** methods are used. \n",
        " - The dump() method in Python is used to pickle objects and store them on a disk. The dump() method takes two parameters. The first parameter is the object to be pickled and the second parameter is the file path that stores the pickled object.\n",
        "\n",
        " - The dumps() method also pickles the data. However, instead of writing the pickled object to disk, the dumps() method returns a string that contains serialized or pickled object contents. "
      ],
      "metadata": {
        "id": "RH1nLxjJWVp9"
      }
    },
    {
      "cell_type": "markdown",
      "source": [
        "- To unpickle a pickled object stored on a disk, you need to use the load() method. However, before that let’s first try to read the contents of the pickled file like a normal file using the open() method."
      ],
      "metadata": {
        "id": "mWivJtAXXMBr"
      }
    },
    {
      "cell_type": "code",
      "source": [],
      "metadata": {
        "id": "sGeNmRfYGE1B"
      },
      "execution_count": null,
      "outputs": []
    },
    {
      "cell_type": "markdown",
      "source": [
        "**Q9. What is the purpose of pickling a model in machine learning?**"
      ],
      "metadata": {
        "id": "8_bOqxwqGFLt"
      }
    },
    {
      "cell_type": "markdown",
      "source": [
        "Machine learning models often take hours or days to run, especially on large datasets with many features. If your machine goes off, you’ll lose your model and you’ll need to re-train it from scratch.\n",
        "- Pickle is a useful Python tool that allows you to save your ML models, to minimise lengthy re-training and allow you to share, commit, and re-load pre-trained machine learning models. Most data scientists working in ML will use Pickle or Joblib to save their ML model for future use.\n",
        "- pickle is a generic object serialization module that can be used for serializing and deserializing objects. While it’s most commonly associated with saving and reloading trained machine learning models"
      ],
      "metadata": {
        "id": "J99JLNkFYNym"
      }
    },
    {
      "cell_type": "code",
      "source": [],
      "metadata": {
        "id": "v9uec62MGIrL"
      },
      "execution_count": null,
      "outputs": []
    }
  ]
}